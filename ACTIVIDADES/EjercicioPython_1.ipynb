{
  "nbformat": 4,
  "nbformat_minor": 0,
  "metadata": {
    "colab": {
      "provenance": []
    },
    "kernelspec": {
      "name": "python3",
      "display_name": "Python 3"
    },
    "language_info": {
      "name": "python"
    }
  },
  "cells": [
    {
      "cell_type": "code",
      "source": [
        "#A2.- Ejercicios en Python - Marco Antonio Cisneros Morales - 1980504 - LMV N1"
      ],
      "metadata": {
        "id": "CafzPgZE6g5R"
      },
      "execution_count": null,
      "outputs": []
    },
    {
      "cell_type": "code",
      "source": [
        "\"\"\"Escribe un programa que solicite al usuario un número y que indique si es par o impar.\"\"\"\n",
        "\n",
        "numero = int(input(\"Ingresa un número: \"))\n",
        "\n",
        "if numero % 2 == 0:\n",
        "    print(\"El \",numero,\" es un número par.\")\n",
        "else:\n",
        "    print(\"El \",numero,\" es un número impar.\")"
      ],
      "metadata": {
        "colab": {
          "base_uri": "https://localhost:8080/"
        },
        "id": "PhEWn_9L6g9q",
        "outputId": "62571fc7-38f2-4a07-ed36-8ea9924629cd"
      },
      "execution_count": 67,
      "outputs": [
        {
          "output_type": "stream",
          "name": "stdout",
          "text": [
            "Ingresa un número: 10\n",
            "El  10  es un número par.\n"
          ]
        }
      ]
    },
    {
      "cell_type": "code",
      "source": [
        "\"\"\"Escribe un programa que tome una lista de números ingresados por el usuario y muestre la lista en orden inverso.\"\"\"\n",
        "\n",
        "Lista = input(\"Ingresa una lista de números separados por comas: \")\n",
        "\n",
        "numeros = Lista.split(',')\n",
        "\n",
        "numeros = [int(numero) for numero in numeros]\n",
        "\n",
        "invertir = numeros[::-1]\n",
        "\n",
        "print(\"La lista en orden inverso es:\", invertir)"
      ],
      "metadata": {
        "colab": {
          "base_uri": "https://localhost:8080/"
        },
        "id": "SWA80R7A_SwX",
        "outputId": "2876cbec-a77c-436f-a135-5cf324937b56"
      },
      "execution_count": 26,
      "outputs": [
        {
          "output_type": "stream",
          "name": "stdout",
          "text": [
            "Ingresa una lista de números separados por comas: 1,6,7,2,6,10,75\n",
            "La lista en orden inverso es: [75, 10, 6, 2, 7, 6, 1]\n"
          ]
        }
      ]
    },
    {
      "cell_type": "code",
      "source": [
        "\"\"\"Crea un programa que genere un número aleatorio entre 1 y 100, y luego le pida al usuario que adivine el número.\n",
        "   El programa debe proporcionar pistas al usuario si el número es mayor o menor que el número objetivo,\n",
        "   y seguir solicitando un nuevo intento hasta que el usuario adivine correctamente.\"\"\"\n",
        "\n",
        "import random\n",
        "\n",
        "numero = random.randint(1, 100)\n",
        "\n",
        "intentos = 0\n",
        "\n",
        "print(\"¡Adivina el número que estoy pensando entre 1 y 100!\")\n",
        "\n",
        "while True:\n",
        "\n",
        "    intento = int(input(\"Ingresa tu numero: \"))\n",
        "\n",
        "    intentos +=1\n",
        "\n",
        "    if intento == numero:\n",
        "        print(\"¡CORRECTO! Adivinaste mi número en \",intentos,\" intentos.\")\n",
        "        break\n",
        "    elif intento < numero:\n",
        "        print(\"El número es mayor. ¡Sigue intentando!\")\n",
        "    else:\n",
        "        print(\"El número es menor. ¡Sigue intentando!\")"
      ],
      "metadata": {
        "colab": {
          "base_uri": "https://localhost:8080/"
        },
        "id": "MpkzYXSEMxYu",
        "outputId": "2c887fdd-d4ac-4cfb-e4c1-8cca99ea69bc"
      },
      "execution_count": 37,
      "outputs": [
        {
          "output_type": "stream",
          "name": "stdout",
          "text": [
            "¡Adivina el número que estoy pensando entre 1 y 100!\n",
            "Ingresa tu numero: 76\n",
            "El número es menor. ¡Sigue intentando!\n",
            "Ingresa tu numero: 54\n",
            "El número es menor. ¡Sigue intentando!\n",
            "Ingresa tu numero: 30\n",
            "El número es menor. ¡Sigue intentando!\n",
            "Ingresa tu numero: 20\n",
            "El número es mayor. ¡Sigue intentando!\n",
            "Ingresa tu numero: 24\n",
            "El número es mayor. ¡Sigue intentando!\n",
            "Ingresa tu numero: 25\n",
            "¡CORRECTO! Adivinaste mi número en  6  intentos.\n"
          ]
        }
      ]
    },
    {
      "cell_type": "code",
      "source": [
        "\"\"\"Escribe un programa que solicite al usuario un rango de números y muestre todos los números primos dentro de ese rango.\"\"\"\n",
        "\n",
        "inicio = int(input(\"Ingresa el número inicial del rango: \"))\n",
        "fin = int(input(\"Ingresa el número final del rango: \"))\n",
        "\n",
        "print(\"Los números primos en el rango son:\")\n",
        "\n",
        "for numero in range(inicio, fin + 1):\n",
        "    if numero > 1:  # Los números primos son mayores que 1\n",
        "\n",
        "        for i in range(2, numero) :\n",
        "            if numero % i == 0:\n",
        "\n",
        "                break\n",
        "\n",
        "        else:\n",
        "            print(numero)"
      ],
      "metadata": {
        "colab": {
          "base_uri": "https://localhost:8080/"
        },
        "id": "FhUOiWraNb64",
        "outputId": "72708c25-fdc2-4662-8bf9-3a0b5441e056"
      },
      "execution_count": 85,
      "outputs": [
        {
          "output_type": "stream",
          "name": "stdout",
          "text": [
            "Ingresa el número inicial del rango: 2\n",
            "Ingresa el número final del rango: 32\n",
            "Los números primos en el rango son:\n",
            "2\n",
            "3\n",
            "5\n",
            "7\n",
            "11\n",
            "13\n",
            "17\n",
            "19\n",
            "23\n",
            "29\n",
            "31\n"
          ]
        }
      ]
    }
  ]
}